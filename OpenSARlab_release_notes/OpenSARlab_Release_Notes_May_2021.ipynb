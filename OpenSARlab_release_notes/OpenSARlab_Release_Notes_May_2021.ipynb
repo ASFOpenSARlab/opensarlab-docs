{
 "cells": [
  {
   "cell_type": "markdown",
   "metadata": {
    "hideCode": true,
    "hidePrompt": true
   },
   "source": [
    "# Welcome to the May 2021 OpenSARlab Upgrade!\n",
    "\n",
    "## Changes:\n",
    "- conda environments **(BREAKING CHANGE ALERT: please read details below)**\n",
    "- nbgitpuller patch\n",
    "- installed jupyter-resource-usage\n",
    "\n",
    "---"
   ]
  },
  {
   "cell_type": "markdown",
   "metadata": {},
   "source": [
    "# Conda Environments\n",
    "\n",
    "### What is conda and what are conda environments?\n",
    "[Conda](https://docs.conda.io/en/latest/) is an open-source package and environment manager. It identifies and attempts to handle dependency related issues when installing multiple software packages. Users create conda environments, in which multiple software packages may be installed. This allows a user to setup a variety of environments, each containing an assortment of software suited to a particular use-case. If a user needs to install software that would conflict with a previously installed package, they can create a new environment in which to install it and avoid the conflict. They can then switch between environments to handle various use-cases.\n",
    "\n",
    "### How did OpenSARlab use conda previously?\n",
    "OpenSARlab previously had conda installed but it was only used as a package manager. Conda was not initialized.\n",
    "\n",
    "### What problems did this cause?\n",
    "- Not initializing conda made it difficult for users to create and use conda environments effectively\n",
    "- All notebooks ran in the same environment, which involved a delicate balance of software installations, making the OpenSARlab docker image very brittle\n",
    "- All user accounts had every package installed regardless of individual need, making the OpenSARlab docker image unnecessarily large and slow to build\n",
    "- Changes to the conda environment made by users did not persist after server shutdowns\n",
    "- Packages such as ISCE, MintPY, TRAIN, and ARIA-Tools were installed in an area to which users lacked access, making updates and development of those packages difficult\n",
    "\n",
    "\n",
    "### What has changed?\n",
    "- All notebooks now run in one of 5 conda environments, each suited different use-cases\n",
    "    - rtc_analysis\n",
    "    - insar_analysis\n",
    "    - machine_learning\n",
    "    - hydrosar\n",
    "    - Python 3 (the base conda environment containing minimal software)\n",
    "- Conda environments are stored in /home/jovyan/.local/envs\n",
    "    - this location is on the user volume, so changes persist after server restarts\n",
    "- New OpenSARlab users are prompted to select the environments they would like pre-built for them when signing up for an account\n",
    "    - unselected environments may always be added later\n",
    "- Current users must build their own environments using the provided [notebook](../../conda_environments/Create_OSL_Conda_Environments.ipynb) and accompanying environment.yml files\n",
    "- Python kernels from the appropriate environments have been pre-selected for all notebooks and saved in their metadata\n",
    "    - if the needed environment doesn't yet exist, users will be prompted to change the kernel to one that does\n",
    "    - Note that an incorrect environment will likely be missing needed software and be incapable of running a notebook for which it was not intended\n",
    "        - Instead, create the needed environment using this [notebook](../../conda_environments/Create_OSL_Conda_Environments.ipynb)\n",
    "- Code has been added to each notebook to check that it is running in the correct environment\n",
    "    - Warnings explain how to change to the correct environment if it has been created but the notebook isn't using it\n",
    "    - Warnings direct users to a [notebook](../../conda_environments/Create_OSL_Conda_Environments.ipynb) to create the environment if it does not yet exist\n",
    "- There is also a minimal environment called \"scratch\" that is intended for user adaptation and experimentation\n",
    "    - This has been added for quick and easy access but users may add as many custom environments as they like\n",
    "    \n",
    "\n",
    "### What will happen if I don't create any new environments?\n",
    "You will encounter environment warnings in the notebooks. You will not have access to the software needed to run the notebooks, which will trigger errors (ModuleNotFoundError).\n",
    "\n",
    "### I don't want to wait for the notebooks to yell at me and give me environment warnings. How can I create the environments I'd like right now?\n",
    "Good choice! Head over to [Create_OSL_Conda_Environments.ipynb](../../conda_environments/Create_OSL_Conda_Environments.ipynb) and run the notebook. You will be prompted to select an environment from a list of options. Rerun the notebook for every environment you wish to add.\n",
    "\n",
    "---"
   ]
  },
  {
   "cell_type": "markdown",
   "metadata": {
    "hideCode": true,
    "hidePrompt": true
   },
   "source": [
    "# nbgitpuller Patch\n",
    "\n",
    "### What is nbgitpuller?\n",
    "\n",
    "[nbgitpuller](https://github.com/jupyterhub/nbgitpuller) performs automatic merging of git repositories in a class-like setting. It handles merging in situations where instructor provided files may be edited both by students and/or the instructor. Its goal is to pull in an instructor's changes while preserving any edits a student has made. Where a conflict exists, it saves the student altered file with a timestamp appended to the filename and pulls in the instructor update.\n",
    "\n",
    "### What was wrong with nbgitpuller?\n",
    "nbgitpuller did not successfully handle all scenarios encountered in OpenSARlab. When it failed, users were locked out of their accounts. They had to login using a purpose-built profile that would skip the nbgitpuller. They could then identify and manually rectify the git state that caused the nbgitpuller to fail.\n",
    "\n",
    "### How was this issue addressed?\n",
    "We have populated user accounts with an altered version of nbgitpuller/pull.py\n",
    " - The nbgitpuller will no longer attempt to checkout files that have been removed from a remote branch\n",
    " - If the user has changed to a branch other than main in the [opensarlab-notebooks](https://github.com/ASFOpenSARlab) git repository, the merge will be aborted\n",
    " - Users can still merge other branches from the command line\n",
    " \n",
    " ---"
   ]
  },
  {
   "cell_type": "markdown",
   "metadata": {
    "hideCode": true,
    "hidePrompt": true,
    "pycharm": {
     "name": "#%% md\n"
    }
   },
   "source": [
    "# Installed jupyter-resource-usage\n",
    "\n",
    "### What is jupyter-resource-usage?\n",
    "[jupyter-resource-usage](https://github.com/jupyter-server/jupyter-resource-usage) is an extension that displays how much memory a notebook server is using. The information is displayed at the top-right of every running Jupyter Notebook. It indicates the total memory used by all running notebooks, kernels, terminals, etc."
   ]
  }
 ],
 "metadata": {
  "hide_code_all_hidden": true,
  "kernelspec": {
   "display_name": "Python 3",
   "language": "python",
   "name": "python3"
  },
  "language_info": {
   "codemirror_mode": {
    "name": "ipython",
    "version": 3
   },
   "file_extension": ".py",
   "mimetype": "text/x-python",
   "name": "python",
   "nbconvert_exporter": "python",
   "pygments_lexer": "ipython3",
   "version": "3.8.6"
  }
 },
 "nbformat": 4,
 "nbformat_minor": 4
}