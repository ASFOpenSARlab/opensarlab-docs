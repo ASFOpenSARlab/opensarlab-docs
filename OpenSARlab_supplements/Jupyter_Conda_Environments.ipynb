{
 "cells": [
  {
   "cell_type": "markdown",
   "metadata": {},
   "source": [
    "<img src=\"NotebookAddons/blackboard-banner.png\" width=\"100%\" />\n",
    "<font face=\"Calibri\">\n",
    "<br>\n",
    "    <font size=\"5\"> <b>Conda Environments in Jupyter</b></font>\n",
    "\n",
    "<br>\n",
    "    <font size=\"4\"> <b> Alex Lewandowski; Alaska Satellite Facility</b><br>\n",
    "    <img src=\"NotebookAddons/UAFLogo_A_647.png\" width=\"170\" align=\"right\" />\n",
    "\n",
    "<font size=\"3\"> This notebook walks you through the creation of a conda environment and performs the necessary setup Jupyter needs to recognize it.\n",
    "\n",
    "</font>"
   ]
  },
  {
   "cell_type": "code",
   "execution_count": null,
   "metadata": {},
   "outputs": [],
   "source": [
    "import os\n",
    "\n",
    "from IPython.display import clear_output"
   ]
  },
  {
   "cell_type": "markdown",
   "metadata": {},
   "source": [
    "<font face=\"Calibri\" size=\"3\"><b>The command to create your environment will look something like this:</b>\n",
    "    <br>\n",
    "    %conda create --prefix /home/jovyan/.local/envs/test python=3.9 pyproj gdal matplotlib numpy=1.19.2 jupyter --yes\n",
    "<br><br>\n",
    "    If you are comfortable assembling your conda create command, run it in the empty cell below. Otherwise, complete Section 0 to walk through the process.\n",
    "<br><br>\n",
    "<b>Note: Add the \"%\" Jupyter magic before \"conda\", like \"%conda create ...\" to run in the system shell</b>:</font>"
   ]
  },
  {
   "cell_type": "code",
   "execution_count": null,
   "metadata": {},
   "outputs": [],
   "source": []
  },
  {
   "cell_type": "markdown",
   "metadata": {},
   "source": [
    "<font face=\"Calibri\">\n",
    "<font size=\"5\"> <b> 0. Create a Conda Environment</b></font>\n",
    "<br><br>\n",
    "<font size=\"3\"><b>Check the list of current environments:</b></font>"
   ]
  },
  {
   "cell_type": "code",
   "execution_count": null,
   "metadata": {},
   "outputs": [],
   "source": [
    "%conda info --envs"
   ]
  },
  {
   "cell_type": "markdown",
   "metadata": {},
   "source": [
    "<font face=\"Calibri\" size=\"3\"><b>Choose a name for the environment.</b></font> \n",
    "    <br>\n",
    "    <ul>\n",
    "        <li>It cannot contain the '#' character</li>\n",
    "        <li>Like named environments in the /home/jovyan/.local/envs directory will be overwritten</li>\n",
    "    </ul>"
   ]
  },
  {
   "cell_type": "code",
   "execution_count": null,
   "metadata": {},
   "outputs": [],
   "source": [
    "while True:\n",
    "    env_name = input(\"Enter the name of your new conda environment \")\n",
    "    if '#' in env_name:\n",
    "        clear_output()\n",
    "        print(\"'#' is a reserved character. Please try again.\")\n",
    "        continue\n",
    "    break"
   ]
  },
  {
   "cell_type": "markdown",
   "metadata": {},
   "source": [
    "<font face=\"Calibri\" size=\"3\"><b>Declare the Python version to install</b> (i.e. 2, 2.7.18, 3, 3.7, 3.9.1, etc...). \n",
    "    <br>\n",
    "A full list of released Python versions is available <a href=\"https://www.python.org/doc/versions/\" target=\"_blank\">here</a>:</font>"
   ]
  },
  {
   "cell_type": "code",
   "execution_count": null,
   "metadata": {},
   "outputs": [],
   "source": [
    "python_version = input(f'Enter the Python version to install in the \"{env_name}\" environment. ')"
   ]
  },
  {
   "cell_type": "markdown",
   "metadata": {},
   "source": [
    "<font face=\"Calibri\" size=\"3\"><b>Enter all packages to install, in addition to the required \"jupyter\" package.</b>\n",
    "    <br>\n",
    "Packages can include explicit version declarations (pyproj=2.6.0) or not (pyproj).\n",
    "Enter packages one at a time or in a space separated list (gdal pyproj numpy=1.19.2 matplotlib)</font>"
   ]
  },
  {
   "cell_type": "code",
   "execution_count": null,
   "metadata": {},
   "outputs": [],
   "source": [
    "packages = \"jupyter\" \n",
    "while True:\n",
    "    pkg = input(\"Enter one or more package names and hit Enter. \")\n",
    "    if pkg == \"\":\n",
    "        break\n",
    "    packages = f\"{pkg} {packages}\""
   ]
  },
  {
   "cell_type": "markdown",
   "metadata": {},
   "source": [
    "<font face=\"Calibri\" size=\"3\"><b>Print and check the conda create command</b>:</font>"
   ]
  },
  {
   "cell_type": "code",
   "execution_count": null,
   "metadata": {},
   "outputs": [],
   "source": [
    "env_dir = f\"/home/jovyan/.local/envs/{env_name}\"\n",
    "cmd = f\"create --prefix {env_dir} python={python_version} {packages} --yes\"\n",
    "print(f\"conda {cmd}\")"
   ]
  },
  {
   "cell_type": "markdown",
   "metadata": {},
   "source": [
    "<font face=\"Calibri\" size=\"3\"><b>If the conda create command looks correct, run the cell below to create the environment in the /home/jovyan/.local/envs directory.</b> Otherwise, start Section 0 over to fix it. If you accidentally create an environment with incorrect specifications, rerun Section 0 using the same environment name to overwrite it.</font>"
   ]
  },
  {
   "cell_type": "code",
   "execution_count": null,
   "metadata": {},
   "outputs": [],
   "source": [
    "%conda $cmd"
   ]
  },
  {
   "cell_type": "markdown",
   "metadata": {},
   "source": [
    "<font face=\"Calibri\">\n",
    "<font size=\"5\"> <b> 1. Create a kernel.json Config Pointing to the Environment's Kernel</b></font>\n",
    "<br><br>\n",
    "<font size=\"3\"><b>Build a command to add kernel:</b></font>"
   ]
  },
  {
   "cell_type": "code",
   "execution_count": null,
   "metadata": {},
   "outputs": [],
   "source": [
    "kernel_cmd = f\"{env_dir}/bin/python -m ipykernel install --user --name {env_name}\"\n",
    "print(kernel_cmd)"
   ]
  },
  {
   "cell_type": "markdown",
   "metadata": {},
   "source": [
    "<font face=\"Calibri\" size=\"3\"><b>Create kernel.json</b>:</font>"
   ]
  },
  {
   "cell_type": "code",
   "execution_count": null,
   "metadata": {},
   "outputs": [],
   "source": [
    "!$kernel_cmd"
   ]
  },
  {
   "cell_type": "markdown",
   "metadata": {},
   "source": [
    "<font face=\"Calibri\">\n",
    "<font size=\"5\"> <b> 2. Restart Your Server</b></font>\n",
    "<br><br>\n",
    "<font size=\"3\"><b>Jupyter will not recognize your new environment's kernel until restarting.</b></font>"
   ]
  },
  {
   "cell_type": "markdown",
   "metadata": {},
   "source": [
    "[Restarting the OpenSARlab Server and Notebook\n",
    "    Kernel](https://github.com/asfadmin/asf-jupyter-docs/blob/master/user_docs/guides/restarting_server_and_kernel.md)"
   ]
  },
  {
   "cell_type": "markdown",
   "metadata": {},
   "source": [
    "<font face=\"Calibri\">\n",
    "<font size=\"5\"> <b> 3. Create a New Notebook or Run an Existing Notebook in the Environment</b></font>\n",
    "<br><br>\n",
    "<font size=\"3\"><b>\n",
    "    <ul>\n",
    "        <li>Select your kernel from the \"New\" menu to create a new notebook\n",
    "        <li>Select your kernel from the Kernel -> Change Kernel menu in an existing notebook        \n",
    "    </ul>\n",
    "    </b></font>"
   ]
  },
  {
   "cell_type": "markdown",
   "metadata": {},
   "source": [
    "<font face=\"Calibri\">\n",
    "<font size=\"5\"> <b> 4. Remove Old Conda Environments</b></font>\n",
    "<br><br>\n",
    "<font size=\"3\"><b>\n",
    "    <ul>\n",
    "        <li>Open a terminal</li>\n",
    "        <li>Delete the environment directory in /home/jovyan/.local/envs/</li>\n",
    "        <li>Delete the corresponding kernel config directory in /home/jovyan/.local/share/jupyter/kernels/</li>\n",
    "    </ul>\n",
    "    </b></font>"
   ]
  },
  {
   "cell_type": "markdown",
   "metadata": {},
   "source": [
    "<font face=\"Calibri\" size=\"2\"> <i>Add_Conda_Environment.ipynb - Version 1.0 - February 2021 </i></font>"
   ]
  }
 ],
 "metadata": {
  "kernelspec": {
   "display_name": "Python 3",
   "language": "python",
   "name": "python3"
  },
  "language_info": {
   "codemirror_mode": {
    "name": "ipython",
    "version": 3
   },
   "file_extension": ".py",
   "mimetype": "text/x-python",
   "name": "python",
   "nbconvert_exporter": "python",
   "pygments_lexer": "ipython3",
   "version": "3.8.6"
  }
 },
 "nbformat": 4,
 "nbformat_minor": 4
}
