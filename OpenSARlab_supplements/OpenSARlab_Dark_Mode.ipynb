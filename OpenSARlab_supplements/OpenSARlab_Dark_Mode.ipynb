{
 "cells": [
  {
   "cell_type": "markdown",
   "metadata": {},
   "source": [
    "<img src=\"../../notebooks/SAR_Training/English/Master/NotebookAddons/blackboard-banner.png\" width=\"100%\" />\n",
    "<font face=\"Calibri\">\n",
    "<br>\n",
    "<font size=\"5\"><b>Install jupyter-themes and turn on dark mode</b> </font>\n",
    "    <br>\n",
    "<font size=\"4\"> <b>Alex Lewandowski; University of Alaska Fairbanks</b>\n",
    "    <hr>\n",
    "    <font size=\"4\"><b>Import needed libraries:</b></font>"
   ]
  },
  {
   "cell_type": "code",
   "execution_count": null,
   "metadata": {},
   "outputs": [],
   "source": [
    "import sys\n",
    "import os"
   ]
  },
  {
   "cell_type": "markdown",
   "metadata": {},
   "source": [
    "<font face=\"Calibri\">\n",
    "<font size=\"4\"><b>Install jupyter-themes as user:</b> </font></font>\n"
   ]
  },
  {
   "cell_type": "code",
   "execution_count": null,
   "metadata": {},
   "outputs": [],
   "source": [
    "!pip install --user jupyterthemes"
   ]
  },
  {
   "cell_type": "markdown",
   "metadata": {},
   "source": [
    "<font face=\"Calibri\">\n",
    "<font size=\"4\"><b>Download the dark jupyter-theme style calibrated for OpenSARlab, osl_dark.less.</b>\n",
    "    <br>\n",
    "    osl_dark.less is based on the built-in style, onedork.less</font></font>"
   ]
  },
  {
   "cell_type": "code",
   "execution_count": null,
   "metadata": {},
   "outputs": [],
   "source": [
    "!aws --no-sign-request --region us-east-1 s3 cp s3://asf-jupyter-data/osl_themes/osl_dark.less /home/jovyan/.local/lib/python3.8/site-packages/jupyterthemes/styles/osl_dark.less"
   ]
  },
  {
   "cell_type": "markdown",
   "metadata": {},
   "source": [
    "<font face=\"Calibri\">\n",
    "<font size=\"4\"><b>Activate the osl_dark theme</b> \n",
    "    <br>\n",
    "    Additional command line options can be added to the command below. Details are available in the   \n",
    "<a href=\"https://github.com/dunovank/jupyter-themes\">jupyter-themes GitHub repository</a>\n",
    "    <br><br>\n",
    "Beware, some of the additional command line options react poorly with OpenSARlab. \n",
    "<br><br>    \n",
    "The command shown below will activate dark mode while preserving the OpenSARlab user interface. \n",
    "    </font></font>"
   ]
  },
  {
   "cell_type": "code",
   "execution_count": null,
   "metadata": {},
   "outputs": [],
   "source": [
    "!python /home/jovyan/.local/bin/jt -t osl_dark -cellw 80% -T -N"
   ]
  },
  {
   "cell_type": "markdown",
   "metadata": {},
   "source": [
    "<font face=\"Calibri\" size=\"4\"><font color='green'><b>NOTE:</b> The theme will be updated the next time you <a href=\"https://github.com/asfadmin/asf-jupyter-docs/blob/master/user_docs/guides/restarting_server_and_kernel.md\">restart the OpenSARlab server</a>.\n",
    "</font></font>"
   ]
  },
  {
   "cell_type": "markdown",
   "metadata": {},
   "source": [
    "<hr>\n",
    "<font face=\"Calibri\">\n",
    "<font size=\"4\"><b>Not a fan of dark-mode? Restore the default theme:</b>\n",
    "</font></font>"
   ]
  },
  {
   "cell_type": "code",
   "execution_count": null,
   "metadata": {},
   "outputs": [],
   "source": [
    "!python /home/jovyan/.local/bin/jt -r"
   ]
  },
  {
   "cell_type": "markdown",
   "metadata": {},
   "source": [
    "<font face=\"Calibri\" size=\"4\"><font color='green'><b>NOTE:</b> The theme will be updated the next time you <a href=\"https://github.com/asfadmin/asf-jupyter-docs/blob/master/user_docs/guides/restarting_server_and_kernel.md\">restart the OpenSARlab server</a>.\n",
    "</font></font>"
   ]
  },
  {
   "cell_type": "markdown",
   "metadata": {},
   "source": [
    "<font face=\"Calibri\" size=\"2\"> <i>OpenSARlab_Dark_Mode - Version 1.0 - September 2020 \n",
    "</font>"
   ]
  }
 ],
 "metadata": {
  "kernelspec": {
   "display_name": "Python 3",
   "language": "python",
   "name": "python3"
  },
  "language_info": {
   "codemirror_mode": {
    "name": "ipython",
    "version": 3
   },
   "file_extension": ".py",
   "mimetype": "text/x-python",
   "name": "python",
   "nbconvert_exporter": "python",
   "pygments_lexer": "ipython3",
   "version": "3.6.9"
  },
  "pycharm": {
   "stem_cell": {
    "cell_type": "raw",
    "source": [],
    "metadata": {
     "collapsed": false
    }
   }
  }
 },
 "nbformat": 4,
 "nbformat_minor": 4
}